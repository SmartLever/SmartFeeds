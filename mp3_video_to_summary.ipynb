{
 "cells": [
  {
   "cell_type": "markdown",
   "source": [
    "# Mp3 and Video to Summary"
   ],
   "metadata": {
    "collapsed": false
   }
  },
  {
   "cell_type": "code",
   "execution_count": 91,
   "outputs": [],
   "source": [
    "import requests\n",
    "import feedparser\n",
    "import os\n",
    "import datetime as dt\n",
    "import pydub\n",
    "import openai\n",
    "import configparser\n",
    "from langchain import OpenAI, PromptTemplate, LLMChain\n",
    "from langchain.chat_models import ChatOpenAI\n",
    "from langchain.text_splitter import CharacterTextSplitter\n",
    "from langchain.chains.mapreduce import MapReduceChain\n",
    "from langchain.prompts import PromptTemplate\n",
    "from langchain.docstore.document import Document\n",
    "from langchain.chains.summarize import load_summarize_chain\n",
    "from transformers import GPT2TokenizerFast\n",
    "from langchain.text_splitter import NLTKTextSplitter\n",
    "text_splitter = NLTKTextSplitter(chunk_size=1000)\n",
    "\n",
    "tokenizer = GPT2TokenizerFast.from_pretrained(\"gpt2\")\n",
    "config = configparser.ConfigParser()\n",
    "config.read('config.ini')\n",
    "\n",
    "openai.api_key =config['openai']['api_key']\n",
    "os.environ[\"OPENAI_API_KEY\"] = config['openai']['api_key']\n",
    "dir_save = 'temp'\n",
    "# check if exist dir_save\n",
    "if not os.path.exists(dir_save):\n",
    "    os.makedirs(dir_save)\n",
    "\n",
    "## load model\n",
    "llm = ChatOpenAI(temperature=0)"
   ],
   "metadata": {
    "collapsed": false
   }
  },
  {
   "cell_type": "code",
   "execution_count": 138,
   "outputs": [],
   "source": [
    "#\n",
    "pydub.AudioSegment.ffprobe ='/opt/homebrew/bin/ffprobe'\n",
    "rss_url = \"https://feeds.buzzsprout.com/2022276.rss\""
   ],
   "metadata": {
    "collapsed": false
   }
  },
  {
   "cell_type": "code",
   "execution_count": 162,
   "outputs": [],
   "source": [
    "\n",
    "def get_recent_podcasts(feed_url, program_name=None):\n",
    "    recent_podcasts = []\n",
    "    feed = feedparser.parse(feed_url)\n",
    "\n",
    "    for entry in feed.entries:\n",
    "        published_date = dt.datetime(*entry.published_parsed[:6])\n",
    "        delta = dt.datetime.now() - published_date\n",
    "        if delta.days <= 7:\n",
    "            if program_name:\n",
    "                if program_name.lower() in entry['title'].lower():\n",
    "                    recent_podcasts.append(entry)\n",
    "            else:\n",
    "                recent_podcasts.append(entry)\n",
    "\n",
    "    return recent_podcasts\n",
    "\n",
    "def download_mp3(url, filename):\n",
    "    # Download mp3 file\n",
    "    r = requests.get(url, allow_redirects=True)\n",
    "    open(filename, 'wb').write(r.content)\n"
   ],
   "metadata": {
    "collapsed": false
   }
  },
  {
   "cell_type": "code",
   "execution_count": 158,
   "outputs": [],
   "source": [
    "programs = get_recent_podcasts(rss_url, 'Despegamos')"
   ],
   "metadata": {
    "collapsed": false
   }
  },
  {
   "cell_type": "code",
   "execution_count": 166,
   "outputs": [],
   "source": [
    "program = programs[0]\n",
    "download_mp3(program.enclosures[0].href, 'test.mp3')"
   ],
   "metadata": {
    "collapsed": false
   }
  },
  {
   "cell_type": "code",
   "execution_count": 169,
   "outputs": [],
   "source": [
    "# User whisper openai api to convert mp3 to text\n",
    "name_audio ='test.mp3'\n",
    "file_save = os.path.join(dir_save,name_audio)\n",
    "load_program = pydub.AudioSegment.from_mp3(file_save)\n",
    "\n",
    "\n",
    "# segments\n",
    "ten_minutes = 10 * 60 * 1000\n",
    "# Inicializar variables\n",
    "start = 0\n",
    "end = ten_minutes\n",
    "counter = 1\n",
    "\n",
    "# Iterar a través del archivo de audio y cortarlo en segmentos de 10 minutos\n",
    "names_div = []\n",
    "format = name_audio.split('.')[-1]\n",
    "while start < len(load_program):\n",
    "    # Cortar segmento de 10 minutos\n",
    "    segment = load_program[start:end]\n",
    "\n",
    "    # Exportar segmento a archivo separado\n",
    "    name_div = f\"{counter}_{name_audio}\"\n",
    "    names_div.append(name_div)\n",
    "    file_save = os.path.join(dir_save,name_div)\n",
    "    segment.export(file_save, format=format)\n",
    "\n",
    "    # Actualizar variables\n",
    "    start += ten_minutes\n",
    "    end += ten_minutes\n",
    "    counter += 1\n",
    "\n"
   ],
   "metadata": {
    "collapsed": false
   }
  },
  {
   "cell_type": "code",
   "execution_count": 170,
   "outputs": [],
   "source": [
    "#Transcribe all segments\n",
    "transcripts = []\n",
    "docs = []\n",
    "for name_div in names_div:\n",
    "    file_save = os.path.join(dir_save,name_div)\n",
    "    audio_file= open(file_save, \"rb\")\n",
    "    transcript = openai.Audio.transcribe(\"whisper-1\", audio_file)\n",
    "    transcripts.append(transcript)\n",
    "    docs.append(Document(transcript.text,metadata={'name':name_div}))\n",
    "\n"
   ],
   "metadata": {
    "collapsed": false
   }
  },
  {
   "cell_type": "code",
   "execution_count": 171,
   "outputs": [],
   "source": [
    "# join transcripts text\n",
    "text = ' \\n'.join([t.text for t in transcripts])\n",
    "text"
   ],
   "metadata": {
    "collapsed": false
   }
  },
  {
   "cell_type": "code",
   "execution_count": 178,
   "outputs": [],
   "source": [
    "# save text\n",
    "with open('text.txt', 'w') as f:\n",
    "    f.write(text)"
   ],
   "metadata": {
    "collapsed": false
   }
  },
  {
   "cell_type": "code",
   "execution_count": 181,
   "outputs": [],
   "source": [
    "# read text\n",
    "with open('text.txt', 'r') as f:\n",
    "    text = f.read()\n",
    "\n",
    "text"
   ],
   "metadata": {
    "collapsed": false
   }
  },
  {
   "cell_type": "markdown",
   "source": [
    "# summarize text"
   ],
   "metadata": {
    "collapsed": false
   }
  },
  {
   "cell_type": "code",
   "execution_count": 100,
   "outputs": [],
   "source": [
    "texts = text_splitter.split_text(text)\n",
    "print(texts[0])"
   ],
   "metadata": {
    "collapsed": false
   }
  },
  {
   "cell_type": "code",
   "execution_count": 101,
   "outputs": [],
   "source": [
    "text_splitter = CharacterTextSplitter.from_huggingface_tokenizer(tokenizer, chunk_size=1000,\n",
    "                                                                 chunk_overlap=0)\n",
    "texts = text_splitter.split_text(text)"
   ],
   "metadata": {
    "collapsed": false
   }
  },
  {
   "cell_type": "code",
   "execution_count": 124,
   "outputs": [],
   "source": [
    "len(texts[0])"
   ],
   "metadata": {
    "collapsed": false
   }
  },
  {
   "cell_type": "code",
   "execution_count": 129,
   "outputs": [],
   "source": [
    "chain = load_summarize_chain(llm, chain_type=\"map_reduce\")\n",
    "chain.run(docs)"
   ],
   "metadata": {
    "collapsed": false
   }
  },
  {
   "cell_type": "code",
   "execution_count": 134,
   "outputs": [],
   "source": [
    "text_splitter = CharacterTextSplitter.from_tiktoken_encoder(chunk_size=1000, chunk_overlap=0)\n",
    "texts = text_splitter.split_text(text)"
   ],
   "metadata": {
    "collapsed": false
   }
  },
  {
   "cell_type": "code",
   "execution_count": 135,
   "outputs": [
    {
     "data": {
      "text/plain": "'Tema 1: Economía y política en Europa\\n- Se discute el tema del gasto social y su beneficio para los empresarios durante la crisis económica.\\n- Se habla de la escasez de gas en Europa y la necesidad de reducir la demanda para el próximo invierno.\\n- Se cuestiona si el mercado del gas está intervenido y si las empresas están comprando gas ruso a pesar de las sanciones.\\n- Se menciona la fuerte inflación esperada y el plan de infraestructuras y gasto público presentado por Joe Biden.\\n- Se detecta un aumento en el uso de tarjetas de crédito en Estados Unidos y se menciona la posible crisis financiera.\\n- Se descubre que Rusia sigue realizando transferencias en alta mar de combustible en las costas de Ceuta, a pesar de la carta enviada por las autoridades españolas para detener esta práctica.\\n\\nTema 2: Economía global\\n- Se menciona la falta de cumplimiento de algunas empresas occidentales en cuanto a las sanciones impuestas a Rusia en el comercio de petróleo y productos derivados.\\n- Se destaca que estas empresas han transportado el 25% de los combustibles fósiles rusos exportados por mar desde que comenzaron las sanciones.\\n- Se habla de las sanciones occidentales a Rusia y cómo están afectando a las grandes empresas europeas.\\n- Se menciona la ley de industria cero de cero emisiones que se está debatiendo en la Comisión Europea para flexibilizar las normas sobre ayudas públicas y dar incentivos a estas empresas.\\n- Se aborda el tema del dólar como divisa de reserva.\\n\\nTema 3: Banca y finanzas\\n- Se menciona la pérdida de más de 7.000 millones de francos suizos del banco suizo Credit Suisse y su rescate por la Reserva Federal.\\n- Se habla de las cuestiones técnicas de Credit Suisse y la retrasada publicación de su informe anual.\\n- Se destaca la falta de auditoría adecuada en las cuentas de los bancos.\\n- Se menciona la petición del Gobierno español a la banca para que no suba los intereses de los depósitos y la cercanía del Banco Central Europeo y el Banco de España a la banca por el pago a los depósitos.'"
     },
     "execution_count": 135,
     "metadata": {},
     "output_type": "execute_result"
    }
   ],
   "source": [
    "len(texts)"
   ],
   "metadata": {
    "collapsed": false
   }
  },
  {
   "cell_type": "code",
   "execution_count": null,
   "outputs": [],
   "source": [],
   "metadata": {
    "collapsed": false
   }
  }
 ],
 "metadata": {
  "kernelspec": {
   "display_name": "Python 3",
   "language": "python",
   "name": "python3"
  },
  "language_info": {
   "codemirror_mode": {
    "name": "ipython",
    "version": 2
   },
   "file_extension": ".py",
   "mimetype": "text/x-python",
   "name": "python",
   "nbconvert_exporter": "python",
   "pygments_lexer": "ipython2",
   "version": "2.7.6"
  }
 },
 "nbformat": 4,
 "nbformat_minor": 0
}
